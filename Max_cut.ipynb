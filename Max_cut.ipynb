{
 "cells": [
  {
   "cell_type": "markdown",
   "id": "83cb9bb5",
   "metadata": {},
   "source": [
    "# The Max Cut Problem\n",
    "\n",
    "The Max Cut problem is one of the most famous problems in combinatorial optimization. Given\n",
    "an undirected graph G(V, E) with a vertex set V and an edge set E, the Max Cut problem seeks to\n",
    "partition V into two sets such that the number of edges between the two sets (considered to be\n",
    "severed by the cut), is a large as possible.  (https://arxiv.org/pdf/1811.11538)\n",
    "\n",
    "We will visualize and solve a basic example in this notebook"
   ]
  },
  {
   "cell_type": "code",
   "execution_count": 36,
   "id": "0aa4d27d",
   "metadata": {},
   "outputs": [
    {
     "name": "stdout",
     "output_type": "stream",
     "text": [
      "Graph with 5 nodes and 6 edges\n"
     ]
    },
    {
     "data": {
      "image/png": "[encoded data removed]",
      "text/plain": [
       "<Figure size 640x480 with 1 Axes>"
      ]
     },
     "metadata": {},
     "output_type": "display_data"
    }
   ],
   "source": [
    "import networkx as nx\n",
    "import matplotlib as plt\n",
    "\n",
    "\n",
    "# First we will create an arbitrary Graph\n",
    "G = nx.Graph()\n",
    "G.add_edge(1, 2)\n",
    "G.add_edge(1, 3)\n",
    "G.add_edge(2, 4)\n",
    "G.add_edge(3, 4)\n",
    "G.add_edge(3, 5)\n",
    "G.add_edge(4, 5)\n",
    "\n",
    "print(G)\n",
    "pos = nx.spring_layout(G, seed=1)  # consistent visuals\n",
    "nx.draw(G, pos, with_labels=True, node_color='skyblue', edge_color='gray', node_size=800, font_size=14)"
   ]
  },
  {
   "cell_type": "markdown",
   "id": "05a28604",
   "metadata": {},
   "source": [
    "## Defining The Problem \n",
    "\n",
    "We want to Maximize the number of edges that connect two nodes that are in seperate groups (either 0 or 1). For example if we put node 1 in group 0 and node 2 in group 1 E(1, 2) would be considered in the cut. Now how do we formulate this mathematically?\n",
    "\n",
    "$y = \\sum_{(i, j) \\in E} (x_i + x_j - 2x_ix_j)$\n",
    "\n",
    "Now what does the notation above actually mean? This looks fancy but really all we are doing is checking adding one to the total sum if $x_i$ and $x_j$ are different and doing nothing if they are the same.\n",
    "\n",
    "### Example\n",
    "Say we have node $x_i$ in group 0 and $x_j$ in group 1, for this particular instance the equation becomes (1 + 0) - 2 * 1 * 0 or just 1. Let's look at the other possibilities for closure.\n",
    "\n",
    "#### Both in 0:   0 + 0 - 2 * 0 * 0 = 0  \n",
    "#### Both in 1:   1 + 1 - 2 * 1 * 1 = 0\n",
    "\n",
    "This is essentially just an XOR equivalent, but we have to use fancy math in order to put it in a quadratic format, so that we can optimize\n"
   ]
  },
  {
   "cell_type": "markdown",
   "id": "af4d4f7e",
   "metadata": {},
   "source": [
    "# Building a Q matrix\n",
    "\n",
    "Now that we have a definition of our problem we neet to remember our ultimate goal of formulating the problem as $y = x^TQx$. Where x are the binary inputs (in this case a random grouping of the edges) and Q is the matrix which represents the actual equation. Let's construct by hand for this simple example.\n",
    "\n",
    "1. We have 5 variables one for each node (x1...x5)  \n",
    "Original Matrix  \n",
    "\\## x1  x2 x3 x4 x5  \n",
    "x1 [0, 0, 0, 0, 0]  \n",
    "x2 [0, 0, 0, 0, 0]  \n",
    "x3 [0, 0, 0, 0, 0]  \n",
    "x4 [0, 0, 0, 0, 0]  \n",
    "x5 [0, 0, 0, 0, 0]\n",
    "\n",
    "2. Let's look at the formula for the first edge in the matrix: $x_1 + x_2 - 2 * x_1 * x_2$\n",
    "3. For each term we can add the coefficient to the corresponding position in the matrix  \n",
    "$Q_{11} += 1$  \n",
    "$Q_{00} += 1$  \n",
    "$Q_{01} -= 2$  \n",
    "$Q_{10} -= 2$  \n",
    "\n",
    "4. After applying all edges:  \n",
    "$\n",
    "Q =\n",
    "\\begin{bmatrix}\n",
    "\\boxed{2} & -2 & -2 &  0 &  0 \\\\\n",
    "-2 & \\boxed{2} &  0 & -2 &  0 \\\\\n",
    "-2 &  0 & \\boxed{3} & -2 & -2 \\\\\n",
    "0 & -2 & -2 & \\boxed{3} & -2 \\\\\n",
    "0 &  0 & -2 & -2 & \\boxed{2}\n",
    "\\end{bmatrix}\n",
    "$\n",
    "> NOTE: In the paper the values are set to -1 instead of -2, both approaches are valid, but differ in the final computation. The matrix is symmetric so if you use both sides of the matrix it is best to divide by 2.\n",
    "\n",
    "- **Diagonal values** represent how many times each node appears in edges (they come from \\( x_i \\) and \\( x_j \\) terms).\n",
    "- **Off-diagonal values** are \\(-2\\) for every edge between \\( i \\) and \\( j \\), due to the \\( -2 x_i x_j \\) term.\n",
    "- This matrix is now suitable to be plugged into QUBO-based optimization frameworks like Qiskit, D-Wave, or custom solvers.\n"
   ]
  },
  {
   "cell_type": "code",
   "execution_count": 37,
   "id": "f6bc30bf",
   "metadata": {},
   "outputs": [
    {
     "name": "stdout",
     "output_type": "stream",
     "text": [
      "[[ 2. -2. -2.  0.  0.]\n",
      " [-2.  2.  0. -2.  0.]\n",
      " [-2.  0.  3. -2. -2.]\n",
      " [ 0. -2. -2.  3. -2.]\n",
      " [ 0.  0. -2. -2.  2.]]\n"
     ]
    }
   ],
   "source": [
    "import numpy as np\n",
    "\n",
    "Q = np.zeros((5, 5))\n",
    "edges = [(0, 1), (0, 2), (1, 3), (2, 3), (2, 4), (3, 4)] # transformed to zero indexed \n",
    "\n",
    "for i, j in edges:\n",
    "    Q[i][i] += 1\n",
    "    Q[j][j] += 1\n",
    "    Q[i][j] -= 2\n",
    "    Q[j][i] -= 2\n",
    "\n",
    "print(Q)"
   ]
  },
  {
   "cell_type": "markdown",
   "id": "cffd11dd",
   "metadata": {},
   "source": [
    "## Note\n",
    "\n",
    "Below I am using Quadratic program to try to keep this generalizeable to any QUBO problem, in reality there are much cleaner ways to solve the max-cut problem in the qiskit_optimization documentation: https://qiskit-community.github.io/qiskit-optimization/"
   ]
  },
  {
   "cell_type": "code",
   "execution_count": 38,
   "id": "5cae88b4",
   "metadata": {},
   "outputs": [
    {
     "name": "stdout",
     "output_type": "stream",
     "text": [
      "Problem name: Max-Cut\n",
      "\n",
      "Maximize\n",
      "  -2*x0*x1 - 2*x0*x2 - 2*x1*x3 - 2*x2*x3 - 2*x2*x4 - 2*x3*x4 + 2*x0 + 2*x1\n",
      "  + 3*x2 + 3*x3 + 2*x4\n",
      "\n",
      "Subject to\n",
      "  No constraints\n",
      "\n",
      "  Binary variables (5)\n",
      "    x0 x1 x2 x3 x4\n",
      "\n"
     ]
    }
   ],
   "source": [
    "from qiskit_optimization import QuadraticProgram\n",
    "\n",
    "#Create a general Quadratic Program\n",
    "cut = QuadraticProgram(\"Max-Cut\")\n",
    "\n",
    "#add binary variables\n",
    "cut.binary_var('x0')\n",
    "cut.binary_var('x1')\n",
    "cut.binary_var('x2')\n",
    "cut.binary_var('x3')\n",
    "cut.binary_var('x4')\n",
    "\n",
    "linear = { f'x{i}': Q[i, i] for i in range(5) } # Terms along the diaganol\n",
    "\n",
    "quadratic = { # Terms off diagonal\n",
    "    (f'x{i}', f'x{j}'): Q[i, j]\n",
    "    for i in range(5) for j in range(5)\n",
    "    if i < j and Q[i, j] != 0 ### avoid double counting edges, unnecessary if you divided by two \n",
    "}\n",
    "\n",
    "cut.maximize(linear= linear, quadratic= quadratic) # has optional input constant as well, no constant in this problem \n",
    "\n",
    "print(cut.prettyprint())\n"
   ]
  },
  {
   "cell_type": "markdown",
   "id": "bbb44468",
   "metadata": {},
   "source": [
    "## Solving\n",
    "\n",
    "From my understanding there are now a few ways to approach this, the general idea is:\n",
    "\n",
    "\n",
    "1. convert your quadratic program into an ising_hamiltonian\n",
    "2. Choose the ansatz             \n",
    "3. Choose the classical optimizer\n",
    "4. Apply the variational solver \n",
    "5. Extract solution\n",
    "\n",
    "I will not pretend to fully understand the tradeoffs between ansatzes or classical optimizers or variational solver's but below is an example of what this might look like, further research required in order to fully optimize these choices.\n",
    "\n",
    "TO DO:\n",
    "Look at difference between using VQE and QAOA\n",
    "Look at difference between global and local optimizers (SPSA vs COBYLA)\n",
    "Look at differences between Ansatzes\n",
    "\n",
    ">it would appear that most of Quantum Algorithms package are not compatible with Qiskit 2.0, see requirements.txt for compatible packages"
   ]
  },
  {
   "cell_type": "code",
   "execution_count": 82,
   "id": "a597d880",
   "metadata": {},
   "outputs": [
    {
     "name": "stdout",
     "output_type": "stream",
     "text": [
      "State, Probability\n",
      "('01001', 0.94921875)\n"
     ]
    },
    {
     "data": {
      "image/png": "[encoded data removed]",
      "text/plain": [
       "<Figure size 700x500 with 1 Axes>"
      ]
     },
     "execution_count": 82,
     "metadata": {},
     "output_type": "execute_result"
    }
   ],
   "source": [
    "from qiskit.circuit.library import RealAmplitudes\n",
    "from qiskit.primitives import Estimator\n",
    "from qiskit_algorithms.optimizers import SPSA\n",
    "from qiskit_algorithms.minimum_eigensolvers import VQE\n",
    "from qiskit.primitives import Sampler\n",
    "from qiskit.visualization import plot_histogram\n",
    "\n",
    "hamiltonian, offset = cut.to_ising()\n",
    "ansatz = RealAmplitudes(num_qubits=4, reps=2)\n",
    "estimator = Estimator()\n",
    "optimizer = SPSA()\n",
    "\n",
    "vqe = VQE(estimator, ansatz, optimizer)\n",
    "\n",
    "result = vqe.compute_minimum_eigenvalue(hamiltonian)\n",
    "optimal_state = ansatz.assign_parameters(result.optimal_parameters)\n",
    "optimal_state.measure_all()\n",
    "\n",
    "sampler = Sampler(options={\"shots\": 1024})\n",
    "distribution = sampler.run([optimal_state]).result().quasi_dists[0]\n",
    "\n",
    "solution = max(distribution.binary_probabilities().items(), key=lambda x: x[1])\n",
    "print(\"State, Probability\")\n",
    "print(solution)\n",
    "plot_histogram(distribution.binary_probabilities())"
   ]
  },
  {
   "cell_type": "code",
   "execution_count": 69,
   "id": "1910570a",
   "metadata": {},
   "outputs": [
    {
     "name": "stdout",
     "output_type": "stream",
     "text": [
      "Node 0: 0\n",
      "Node 1: 1\n",
      "Node 2: 1\n",
      "Node 3: 0\n",
      "Node 4: 0\n"
     ]
    }
   ],
   "source": [
    "s = ''\n",
    "for i, group in enumerate(reversed(solution[0])):\n",
    "    s += f'{group}'\n",
    "    print(f\"Node {i}: {group}\")"
   ]
  },
  {
   "cell_type": "markdown",
   "id": "7358836a",
   "metadata": {},
   "source": [
    "## Validate\n",
    "\n",
    "This problem has multiple solutions so you will see different bit strings multiple times, as long as you get 5 in your validation, we did it right"
   ]
  },
  {
   "cell_type": "code",
   "execution_count": 70,
   "id": "ab7b2593",
   "metadata": {},
   "outputs": [
    {
     "name": "stdout",
     "output_type": "stream",
     "text": [
      "5\n"
     ]
    }
   ],
   "source": [
    "def compute_cut_value(bitstring: str, G: nx.Graph) -> int:\n",
    "    assignment = [int(bit) for bit in bitstring]\n",
    "    cut_edges = 0\n",
    "    for u, v in G.edges():\n",
    "        if assignment[u - 1] != assignment[v - 1]:\n",
    "            cut_edges += 1\n",
    "    return cut_edges\n",
    "\n",
    "\n",
    "print(compute_cut_value(s, G))"
   ]
  }
 ],
 "metadata": {
  "kernelspec": {
   "display_name": ".venv",
   "language": "python",
   "name": "python3"
  },
  "language_info": {
   "codemirror_mode": {
    "name": "ipython",
    "version": 3
   },
   "file_extension": ".py",
   "mimetype": "text/x-python",
   "name": "python",
   "nbconvert_exporter": "python",
   "pygments_lexer": "ipython3",
   "version": "3.11.11"
  }
 },
 "nbformat": 4,
 "nbformat_minor": 5
}
